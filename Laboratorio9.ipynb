{
 "cells": [
  {
   "cell_type": "markdown",
   "metadata": {},
   "source": [
    "# Data Science - Laboratorio 9"
   ]
  },
  {
   "cell_type": "markdown",
   "metadata": {},
   "source": [
    "## Laboratorio 9. Visualizaciones interactivas y dashboards"
   ]
  },
  {
   "cell_type": "markdown",
   "metadata": {},
   "source": [
    "**Integrantes**\n",
    "- Diego Alberto Leiva\n",
    "- José Pablo Orellana"
   ]
  },
  {
   "cell_type": "markdown",
   "metadata": {},
   "source": [
    "#### Librerias"
   ]
  },
  {
   "cell_type": "code",
   "execution_count": 18,
   "metadata": {},
   "outputs": [],
   "source": [
    "import dash\n",
    "from dash import dcc, html\n",
    "import plotly.express as px\n",
    "import pandas as pd"
   ]
  },
  {
   "cell_type": "markdown",
   "metadata": {},
   "source": [
    "#### Dashboard"
   ]
  },
  {
   "cell_type": "code",
   "execution_count": 20,
   "metadata": {},
   "outputs": [
    {
     "data": {
      "text/html": [
       "\n",
       "        <iframe\n",
       "            width=\"100%\"\n",
       "            height=\"650\"\n",
       "            src=\"http://127.0.0.1:8050/\"\n",
       "            frameborder=\"0\"\n",
       "            allowfullscreen\n",
       "            \n",
       "        ></iframe>\n",
       "        "
      ],
      "text/plain": [
       "<IPython.lib.display.IFrame at 0x2383d85c380>"
      ]
     },
     "metadata": {},
     "output_type": "display_data"
    }
   ],
   "source": [
    "# Cargar el archivo CSV\n",
    "file_path = 'data/precios_combustibles.csv'\n",
    "df_combustibles = pd.read_csv(file_path)\n",
    "\n",
    "# Convertir 'Fecha' a formato datetime \n",
    "df_combustibles['Fecha'] = pd.to_datetime(df_combustibles['Fecha'], format='%b-%y')\n",
    "\n",
    "# Crear la aplicación Dash\n",
    "app = dash.Dash(__name__)\n",
    "\n",
    "# Función para crear la gráfica de barras\n",
    "def create_figure(selected_year):\n",
    "    # Filtrar por el año seleccionado\n",
    "    df_filtered = df_combustibles[df_combustibles['Fecha'].dt.year == selected_year]\n",
    "    \n",
    "    # Transformar los datos para la gráfica\n",
    "    df_melted = df_filtered.melt(\n",
    "        id_vars=['Fecha'], \n",
    "        value_vars=['Gasolina Superior', 'Gasolina Regular', 'Diesel'],\n",
    "        var_name='Tipo Combustible', \n",
    "        value_name='Precios'\n",
    "    )\n",
    "    \n",
    "    # Ordenar los meses para que aparezcan de enero a diciembre \n",
    "    df_melted['Mes'] = df_melted['Fecha'].dt.strftime('%b')\n",
    "    meses_espanol = {\n",
    "        'Jan': 'Ene', 'Feb': 'Feb', 'Mar': 'Mar', 'Apr': 'Abr', 'May': 'May', 'Jun': 'Jun',\n",
    "        'Jul': 'Jul', 'Aug': 'Ago', 'Sep': 'Sep', 'Oct': 'Oct', 'Nov': 'Nov', 'Dec': 'Dic'\n",
    "    }\n",
    "    df_melted['Mes'] = df_melted['Mes'].map(meses_espanol)\n",
    "    df_melted['Mes'] = pd.Categorical(df_melted['Mes'], categories=[\n",
    "        'Ene', 'Feb', 'Mar', 'Abr', 'May', 'Jun', \n",
    "        'Jul', 'Ago', 'Sep', 'Oct', 'Nov', 'Dic'], ordered=True)\n",
    "\n",
    "    # Crear la gráfica\n",
    "    fig = px.bar(\n",
    "        df_melted,\n",
    "        x='Mes',\n",
    "        y='Precios',\n",
    "        color='Tipo Combustible',\n",
    "        facet_col='Tipo Combustible',\n",
    "        facet_col_spacing=0.05,\n",
    "        category_orders={\"Tipo Combustible\": [\"Gasolina Regular\", \"Gasolina Superior\", \"Diesel\"]},  # Cambiar el orden a rojo, verde, gris\n",
    "        title=f\"Tendencia de Precios de Combustible por Año\",\n",
    "        labels={ 'Mes': 'Meses', 'Precios': 'Precios (GTQ/Galón)', 'Tipo Combustible': 'Tipo de Combustible' }\n",
    "    )\n",
    "\n",
    "    # Modificar colores \n",
    "    color_discrete_map = { 'Gasolina Superior': '#158C59', 'Gasolina Regular': '#C22B30', 'Diesel': '#A2A2A2' }\n",
    "    border_color_map = { 'Gasolina Superior': '#0F623E', 'Gasolina Regular': '#972125', 'Diesel': '#808080' }\n",
    "    \n",
    "    # Aplicar el color interno y contorno a las barras\n",
    "    fig.for_each_trace(\n",
    "        lambda trace: trace.update(marker_color=color_discrete_map[trace.name], marker_line_color=border_color_map[trace.name], marker_line_width=3, opacity=0.9)\n",
    "    )\n",
    "\n",
    "    # Ajustes adicionales de estilo\n",
    "    fig.update_layout(\n",
    "        plot_bgcolor='#FAF3E0',\n",
    "        paper_bgcolor='#FAF3E0',\n",
    "        xaxis_title=\"Meses\",\n",
    "        yaxis_title=\"Precios\",\n",
    "        title={ 'text': f\"Tendencia de Precios de Combustible por Año\", 'y': 0.9, 'x': 0.5, 'xanchor': 'center', 'yanchor': 'top' },\n",
    "        font=dict(color='#006CAF'),\n",
    "        showlegend=False\n",
    "    )\n",
    "\n",
    "    # Cambiar los títulos de las facetas\n",
    "    fig.for_each_annotation(lambda a: a.update(text=a.text.replace(\"Tipo de Combustible=\", \"\")))\n",
    "    fig.for_each_annotation(lambda a: a.update(text=a.text + { 'Gasolina Regular': \" (Rojo)\", 'Gasolina Superior': \" (Verde)\", 'Diesel': \" (Negro)\" }[a.text]))\n",
    "\n",
    "    return fig\n",
    "\n",
    "# Función para calcular el promedio de cada tipo de combustible\n",
    "def calcular_promedio(selected_year):\n",
    "    df_filtered = df_combustibles[df_combustibles['Fecha'].dt.year == selected_year]\n",
    "    promedio_superior = df_filtered['Gasolina Superior'].mean()\n",
    "    promedio_regular = df_filtered['Gasolina Regular'].mean()\n",
    "    promedio_diesel = df_filtered['Diesel'].mean()\n",
    "    return round(promedio_superior, 2), round(promedio_regular, 2), round(promedio_diesel, 2)\n",
    "\n",
    "# Layout de la aplicación\n",
    "app.layout = html.Div([\n",
    "    html.Div([\n",
    "        html.H2(\"Tendencia de Precios de Combustible por Año\", style={'textAlign': 'center', 'fontSize': '28px'}),  # Título gráfico\n",
    "        dcc.Dropdown(\n",
    "            id='year-dropdown',\n",
    "            options=[{'label': str(year), 'value': year} for year in sorted(df_combustibles['Fecha'].dt.year.unique())],\n",
    "            value=df_combustibles['Fecha'].dt.year.min(),\n",
    "            style={'width': '200px', 'margin': 'auto', 'color': '#006CAF'}\n",
    "        ),\n",
    "        dcc.Graph(id='price-graph')\n",
    "    ], style={'width': '65%', 'display': 'inline-block', 'verticalAlign': 'top'}),  # Ajustar ancho del bloque gráfico\n",
    "\n",
    "    # Cuadros con promedios\n",
    "    html.Div([\n",
    "        html.H2(\"Promedio de Precios de Combustible por Año\", style={'textAlign': 'center', 'fontSize': '28px', 'marginTop': '25px'}),  # Ajuste del título\n",
    "        html.Div(id='cuadros-promedio', style={'display': 'flex', 'flexDirection': 'column', 'alignItems': 'center', 'gap': '20px'})\n",
    "    ], style={'width': '30%', 'display': 'inline-block', 'verticalAlign': 'top'})  # Ajustar ancho del bloque de promedios\n",
    "], style={'backgroundColor': '#FAF3E0', 'padding': '10px', 'color': '#006CAF', 'display': 'flex', 'alignItems': 'flex-start'})  # Flexbox para alinearlos en la misma altura\n",
    "\n",
    "# Callback para actualizar los cuadros con los promedios\n",
    "@app.callback(\n",
    "    [dash.dependencies.Output('cuadros-promedio', 'children'),\n",
    "     dash.dependencies.Output('price-graph', 'figure')],\n",
    "    [dash.dependencies.Input('year-dropdown', 'value')]\n",
    ")\n",
    "def actualizar_dashboard(selected_year):\n",
    "    promedio_superior, promedio_regular, promedio_diesel = calcular_promedio(selected_year)\n",
    "    \n",
    "    cuadros = [\n",
    "        html.Div([\n",
    "            html.Img(src='/assets/img/rojo.jpg', style={'width': '60px', 'height': '60px', 'marginRight': '20px'}),\n",
    "            html.Span(f\"GTQ {promedio_regular}\", style={'fontSize': '28px', 'fontWeight': 'bold', 'color': '#C22B30'}),\n",
    "        ], style={\n",
    "            'border': '2px solid #972125', 'padding': '10px', 'borderRadius': '5px', \n",
    "            'display': 'flex', 'alignItems': 'center', 'justifyContent': 'center', \n",
    "            'width': '350px', 'height': '100px'}),\n",
    "\n",
    "        html.Div([\n",
    "            html.Img(src='/assets/img/verde.jpg', style={'width': '60px', 'height': '60px', 'marginRight': '20px'}),  \n",
    "            html.Span(f\"GTQ {promedio_superior}\", style={'fontSize': '28px', 'fontWeight': 'bold', 'color': '#158C59'}),\n",
    "        ], style={\n",
    "            'border': '2px solid #0F623E', 'padding': '10px', 'borderRadius': '5px', \n",
    "            'display': 'flex', 'alignItems': 'center', 'justifyContent': 'center', \n",
    "            'width': '350px', 'height': '100px'}),\n",
    "\n",
    "        html.Div([\n",
    "            html.Img(src='/assets/img/negro.jpg', style={'width': '60px', 'height': '60px', 'marginRight': '20px'}),\n",
    "            html.Span(f\"GTQ {promedio_diesel}\", style={'fontSize': '28px', 'fontWeight': 'bold', 'color': '#A2A2A2'}),\n",
    "        ], style={\n",
    "            'border': '2px solid #808080', 'padding': '10px', 'borderRadius': '5px', \n",
    "            'display': 'flex', 'alignItems': 'center', 'justifyContent': 'center', \n",
    "            'width': '350px', 'height': '100px'})\n",
    "    ]\n",
    "    \n",
    "    # Crear la figura con la gráfica de barras\n",
    "    figura = create_figure(selected_year)\n",
    "\n",
    "    return cuadros, figura\n",
    "\n",
    "# Ejecutar la aplicación\n",
    "if __name__ == '__main__':\n",
    "    app.run_server(debug=True)\n"
   ]
  }
 ],
 "metadata": {
  "kernelspec": {
   "display_name": "Python 3",
   "language": "python",
   "name": "python3"
  },
  "language_info": {
   "codemirror_mode": {
    "name": "ipython",
    "version": 3
   },
   "file_extension": ".py",
   "mimetype": "text/x-python",
   "name": "python",
   "nbconvert_exporter": "python",
   "pygments_lexer": "ipython3",
   "version": "3.12.4"
  }
 },
 "nbformat": 4,
 "nbformat_minor": 2
}

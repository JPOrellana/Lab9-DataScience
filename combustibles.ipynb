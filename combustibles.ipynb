{
 "cells": [
  {
   "cell_type": "markdown",
   "metadata": {},
   "source": [
    "# Data Science - Laboratorio 9\n",
    "## Visualizaciones interactivas y dashboards\n",
    "### Procesamiento de Datos y Modelos LSTM\n",
    "---\n",
    "**Integrantes**\n",
    "- Diego Alberto Leiva\n",
    "- José Pablo Orellana"
   ]
  },
  {
   "cell_type": "markdown",
   "metadata": {},
   "source": [
    "## Librerias"
   ]
  },
  {
   "cell_type": "code",
   "execution_count": 1,
   "metadata": {},
   "outputs": [],
   "source": [
    "# Manipulacion de Datos\n",
    "import pandas as pd\n",
    "import numpy as np\n",
    "\n",
    "# Sistema\n",
    "import os\n",
    "\n",
    "# Utilidades\n",
    "import random\n",
    "\n",
    "# Preprocesamiento\n",
    "from sklearn.preprocessing import StandardScaler\n",
    "\n",
    "# PyTorch CUDA\n",
    "import torch\n",
    "import torch.nn as nn\n",
    "import torch.nn.functional as F\n",
    "import torch.optim as optim\n",
    "import torch.utils.data as data"
   ]
  },
  {
   "cell_type": "markdown",
   "metadata": {},
   "source": [
    "## Carga de Conjunto de Datos"
   ]
  },
  {
   "cell_type": "code",
   "execution_count": 2,
   "metadata": {},
   "outputs": [
    {
     "name": "stdout",
     "output_type": "stream",
     "text": [
      "Se cargaron un total de 3 archivos\n",
      "\n",
      "Archivos cargados:\n",
      "\t- Consumos\n",
      "\t- Importaciones\n",
      "\t- Precios\n"
     ]
    }
   ],
   "source": [
    "# Leer los archivos de una carpeta y almacenarlos como dataframes\n",
    "consumos = pd.read_csv('raw_data/consumos_combustibles.csv', sep=';', encoding='utf-8')\n",
    "importaciones = pd.read_csv('raw_data/importaciones_combustibles.csv', sep=';', encoding='utf-8')\n",
    "precios = pd.read_csv('raw_data/precios_combustibles.csv', sep=';', encoding='utf-8')\n",
    "\n",
    "data_frames = {\n",
    "    'Consumos': consumos,\n",
    "    'Importaciones': importaciones,\n",
    "    'Precios': precios\n",
    "}\n",
    "\n",
    "# Mostrar los nombres de los archivos\n",
    "print(f\"Se cargaron un total de 3 archivos\\n\")\n",
    "print('Archivos cargados:')\n",
    "for key in data_frames.keys():\n",
    "    print(f\"\\t- {key}\")"
   ]
  },
  {
   "cell_type": "markdown",
   "metadata": {},
   "source": [
    "## Preprocesamiento"
   ]
  },
  {
   "cell_type": "markdown",
   "metadata": {},
   "source": [
    "### Seleccion de Variables"
   ]
  },
  {
   "cell_type": "markdown",
   "metadata": {},
   "source": [
    "Solo se tomarán en cuenta los datos de importación, consumo y precios de los siguientes tipos de combustibles:\n",
    "- `Gasolina Súper`\n",
    "- `Gasolina Regular`\n",
    "- `Diesel` -> combinacion de Diesel alto azufre y bajo azufre"
   ]
  },
  {
   "cell_type": "code",
   "execution_count": 3,
   "metadata": {},
   "outputs": [],
   "source": [
    "# Seleccionar las columnas de interés para consumos e importaciones\n",
    "cols = ['Fecha','Gasolina regular', 'Gasolina superior', 'Diesel alto azufre', 'Diesel bajo azufre']\n",
    "\n",
    "# Filtrar columnas en 'consumo_combustibles'\n",
    "consumos = consumos[cols].copy()\n",
    "\n",
    "# Filtrar columnas en 'importacion_combustibles'\n",
    "importaciones = importaciones[cols].copy()\n",
    "\n",
    "# Filtrar columnas en 'precios_combustibles'\n",
    "precios_cols = ['FECHA','Superior GTQ/GALON', 'Regular GTQ/GALON', 'Diesel GTQ/GALON']\n",
    "precios = precios[precios_cols].copy()"
   ]
  },
  {
   "cell_type": "markdown",
   "metadata": {},
   "source": [
    "### Verificacion y manejo de Nulos"
   ]
  },
  {
   "cell_type": "markdown",
   "metadata": {},
   "source": [
    "Anteriormente se encontro que Ceras y tipo cambio eran las variables con nulos. Dado que ahora se seleccionaron las variables de interes antes, es probable que ya no existan nulos."
   ]
  },
  {
   "cell_type": "code",
   "execution_count": 4,
   "metadata": {},
   "outputs": [
    {
     "name": "stdout",
     "output_type": "stream",
     "text": [
      "Valores nulos en el dataset de consumo de combustibles: 0\n",
      "Valores nulos en el dataset de importación de combustibles: 0\n",
      "Valores nulos en el dataset de precios de combustibles: 0\n"
     ]
    }
   ],
   "source": [
    "# Comprobar si hay valores nulos\n",
    "print(\"Valores nulos en el dataset de consumo de combustibles:\", consumos.isnull().sum().sum())\n",
    "print(\"Valores nulos en el dataset de importación de combustibles:\", importaciones.isnull().sum().sum())\n",
    "print(\"Valores nulos en el dataset de precios de combustibles:\", precios.isnull().sum().sum())"
   ]
  },
  {
   "cell_type": "markdown",
   "metadata": {},
   "source": [
    "### Manejo de Fechas"
   ]
  },
  {
   "cell_type": "markdown",
   "metadata": {},
   "source": [
    "Anteriormente se encontro que los 3 datasets contienen una unica variable culitativa la cual es `Fecha`. Esta se encuentra como string en español por lo que se debe de transformar a datetime con formato inglés para que pandas sea capaz de reconocer la variable como un objeto **datetime**"
   ]
  },
  {
   "cell_type": "code",
   "execution_count": 5,
   "metadata": {},
   "outputs": [],
   "source": [
    "# Diccionario de meses en español a inglés\n",
    "month_mapping = {\n",
    "    'ene': 'Jan',\n",
    "    'feb': 'Feb',\n",
    "    'mar': 'Mar',\n",
    "    'abr': 'Apr',\n",
    "    'may': 'May',\n",
    "    'jun': 'Jun',\n",
    "    'jul': 'Jul',\n",
    "    'ago': 'Aug',\n",
    "    'sep': 'Sep',\n",
    "    'oct': 'Oct',\n",
    "    'nov': 'Nov',\n",
    "    'dic': 'Dec'\n",
    "}\n",
    "\n",
    "# Función para reemplazar los nombres de los meses\n",
    "def replace_months(date_str):\n",
    "    for esp, eng in month_mapping.items():\n",
    "        date_str = date_str.replace(esp, eng)\n",
    "    return date_str\n",
    "\n",
    "# Por fines practicos, se renombra la columna  'FECHA' a 'Fecha' en el dataset de precios de combustibles\n",
    "precios.rename(columns={'FECHA': 'Fecha'}, inplace=True)\n",
    "\n",
    "# Aplicar la función a las columnas de fecha de los dataframes\n",
    "consumos['Fecha'] = consumos['Fecha'].apply(replace_months)\n",
    "importaciones['Fecha'] = importaciones['Fecha'].apply(replace_months)\n",
    "precios['Fecha'] = precios['Fecha'].apply(replace_months)\n",
    "\n",
    "# Convertir las columnas de fecha a datetime\n",
    "consumos['Fecha'] = pd.to_datetime(consumos['Fecha'], format='%b/%Y')\n",
    "importaciones['Fecha'] = pd.to_datetime(importaciones['Fecha'], format='%b/%Y')\n",
    "precios['Fecha'] = pd.to_datetime(precios['Fecha'], format='%d/%b/%Y')\n",
    "\n",
    "# Establecer la columna 'Fecha' como índice en los tres dataframes\n",
    "consumos.set_index('Fecha', inplace=True)\n",
    "importaciones.set_index('Fecha', inplace=True)\n",
    "precios.set_index('Fecha', inplace=True)\n",
    "\n",
    "# Converir los indices a datetime\n",
    "consumos.index = pd.to_datetime(consumos.index)\n",
    "importaciones.index = pd.to_datetime(importaciones.index)\n",
    "precios.index = pd.to_datetime(precios.index)\n",
    "\n",
    "# Ordenar los índices\n",
    "consumos.sort_index(inplace=True)\n",
    "importaciones.sort_index(inplace=True)\n",
    "precios.sort_index(inplace=True)\n",
    "\n",
    "# Inferir la frecuencia de los índices\n",
    "pd.infer_freq(consumos.index)\n",
    "pd.infer_freq(importaciones.index)\n",
    "pd.infer_freq(precios.index);"
   ]
  },
  {
   "cell_type": "markdown",
   "metadata": {},
   "source": [
    "### Manejo de variables Diesel"
   ]
  },
  {
   "cell_type": "markdown",
   "metadata": {},
   "source": [
    "Es necesario combinar ambas variables de diesel en una unica variable donde las fechas de antes del 2018 se tomaran para el diesel alto en azufre, posterior a 2018 se tomaran las de diesel alto en azufre."
   ]
  },
  {
   "cell_type": "code",
   "execution_count": 6,
   "metadata": {},
   "outputs": [],
   "source": [
    "def combine_diesel(df, high_sulfur_col, low_sulfur_col, combined_col):\n",
    "    \"\"\"\n",
    "    Función que combina las columnas de Diesel de alto y bajo azufre en una sola columna.\n",
    "    Toma los valores de Diesel de alto azufre hasta 2017 y los de Diesel de bajo azufre a partir de 2018.\n",
    "\n",
    "    Args:\n",
    "        df (pandas.DataFrame): El dataframe de entrada.\n",
    "        high_sulfur_col (str): El nombre de la columna de Diesel de alto azufre.\n",
    "        low_sulfur_col (str): El nombre de la columna de Diesel de bajo azufre.\n",
    "        combined_col (str): El nombre de la nueva columna combinada.\n",
    "    \n",
    "    Returns:\n",
    "        data (pandas.DataFrame): El dataframe de entrada con la nueva columna combinada.\n",
    "    \"\"\"\n",
    "    # Crear una copia del dataframe\n",
    "    data = df.copy()\n",
    "\n",
    "    # Crear una nueva columna con los valores de Diesel de alto azufre\n",
    "    data.loc[data.index < '2018-01-01', combined_col] = data[high_sulfur_col]\n",
    "    data.loc[data.index >= '2018-01-01', combined_col] = data[low_sulfur_col]\n",
    "\n",
    "    # Eliminar las columnas originales\n",
    "    data.drop(columns=[high_sulfur_col, low_sulfur_col], inplace=True)\n",
    "\n",
    "    return data"
   ]
  },
  {
   "cell_type": "code",
   "execution_count": 7,
   "metadata": {},
   "outputs": [],
   "source": [
    "# Combina las columnas de Diesel de alto y bajo azufre en una sola columna\n",
    "consumos = combine_diesel(consumos, 'Diesel alto azufre', 'Diesel bajo azufre', 'Diesel')\n",
    "importaciones = combine_diesel(importaciones, 'Diesel alto azufre', 'Diesel bajo azufre', 'Diesel')"
   ]
  },
  {
   "cell_type": "markdown",
   "metadata": {},
   "source": [
    "### Renombrar Variables"
   ]
  },
  {
   "cell_type": "markdown",
   "metadata": {},
   "source": [
    "Por fines practicos se renombraran las variables para que sean más fácil de entender a que hacen referencia."
   ]
  },
  {
   "cell_type": "code",
   "execution_count": 8,
   "metadata": {},
   "outputs": [],
   "source": [
    "precios.rename(columns={\n",
    "    'Superior GTQ/GALON': 'Gasolina Superior',\n",
    "    'Regular GTQ/GALON': 'Gasolina Regular',\n",
    "    'Diesel GTQ/GALON': 'Diesel',\n",
    "    'Glp Cilindro 25Lbs GTQ/LB': 'Gas Propano'\n",
    "}, inplace=True)\n",
    "\n",
    "# Renombrar columnas en 'consumo_combustibles'\n",
    "consumos.rename(columns={\n",
    "    'Gasolina regular': 'Gasolina Regular',\n",
    "    'Gasolina superior': 'Gasolina Superior',\n",
    "    'Gas licuado de petróleo': 'Gas Propano'\n",
    "}, inplace=True)\n",
    "\n",
    "# Renombrar columnas en 'importacion_combustibles'\n",
    "importaciones.rename(columns={\n",
    "    'Gasolina regular': 'Gasolina Regular',\n",
    "    'Gasolina superior': 'Gasolina Superior',\n",
    "    'Gas licuado de petróleo': 'Gas Propano'\n",
    "}, inplace=True)"
   ]
  },
  {
   "cell_type": "markdown",
   "metadata": {},
   "source": [
    "### Guardar Data Limpia"
   ]
  },
  {
   "cell_type": "code",
   "execution_count": 9,
   "metadata": {},
   "outputs": [
    {
     "name": "stdout",
     "output_type": "stream",
     "text": [
      "Dataframes procesados guardados en la carpeta 'data'.\n"
     ]
    }
   ],
   "source": [
    "# Guardar los dataframes procesados en nuevos archivos CSV\n",
    "consumos.to_csv('data/consumos_clean.csv', sep=';', encoding='utf-8')\n",
    "importaciones.to_csv('data/importaciones_clean.csv', sep=';', encoding='utf-8')\n",
    "precios.to_csv('data/precios_clean.csv', sep=';', encoding='utf-8')\n",
    "print(\"Dataframes procesados guardados en la carpeta 'data'.\")"
   ]
  }
 ],
 "metadata": {
  "kernelspec": {
   "display_name": "DataSci_L9",
   "language": "python",
   "name": "python3"
  },
  "language_info": {
   "codemirror_mode": {
    "name": "ipython",
    "version": 3
   },
   "file_extension": ".py",
   "mimetype": "text/x-python",
   "name": "python",
   "nbconvert_exporter": "python",
   "pygments_lexer": "ipython3",
   "version": "3.12.7"
  }
 },
 "nbformat": 4,
 "nbformat_minor": 2
}
